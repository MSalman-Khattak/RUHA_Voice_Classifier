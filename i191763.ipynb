{
 "cells": [
  {
   "cell_type": "code",
   "execution_count": 14,
   "metadata": {},
   "outputs": [],
   "source": [
    "import zipfile\n",
    "import os\n",
    "import shutil\n",
    "import os.path\n",
    "import time"
   ]
  },
  {
   "cell_type": "code",
   "execution_count": 15,
   "metadata": {},
   "outputs": [],
   "source": [
    "\n",
    "import string\n",
    "import pandas as pd\n",
    "from random import randint\n",
    "import soundfile as sf\n",
    "import librosa\n",
    "from zipfile import ZipFile\n",
    "from nltk import word_tokenize\n",
    "# from pyunpack import Archive\n",
    "import patoolib\n",
    "import shutil\n",
    "import os\n",
    "import path\n",
    "from pathlib import Path\n",
    "import pydub\n",
    "import numpy as np\n",
    "from pydub import AudioSegment\n",
    "from os import path\n",
    "from sklearn.preprocessing import LabelEncoder\n",
    "# import AudioSegment\n",
    "# import unrar"
   ]
  },
  {
   "cell_type": "code",
   "execution_count": 16,
   "metadata": {},
   "outputs": [],
   "source": [
    "\n",
    "updated_names=[]"
   ]
  },
  {
   "cell_type": "code",
   "execution_count": 17,
   "metadata": {},
   "outputs": [
    {
     "name": "stdout",
     "output_type": "stream",
     "text": [
      "Extracted all\n"
     ]
    }
   ],
   "source": [
    "namelist=[]\n",
    "lst=[]\n",
    "zip_file = \"Assignment 7 part 1-20211128T182535Z-001.zip\"\n",
    "try:\n",
    "    with zipfile.ZipFile(zip_file) as z:\n",
    "        z.extractall()\n",
    "        namelist=(z.namelist())\n",
    "        print(\"Extracted all\")\n",
    "except:\n",
    "    print(\"Invalid file\")"
   ]
  },
  {
   "cell_type": "code",
   "execution_count": 18,
   "metadata": {},
   "outputs": [],
   "source": [
    "for i in range(len(namelist)):\n",
    "    tp=os.path.splitext(namelist[i])\n",
    "    if(tp[1]=='.rar'):\n",
    "        base = os.path.splitext(namelist[i])[0]\n",
    "        os.rename(namelist[i], base + '.zip')\n",
    "        namelist[i]=base + '.zip'"
   ]
  },
  {
   "cell_type": "code",
   "execution_count": 19,
   "metadata": {},
   "outputs": [],
   "source": [
    "for i in namelist:\n",
    "    if i[-7:-4]=='(1)':\n",
    "        os. remove(i)\n",
    "for i in namelist:\n",
    "    if i[-7:-4]=='(2)':\n",
    "        os. remove(i)\n",
    "for i in namelist:\n",
    "    if i=='Assignment 7 part 1/i200676_dsn_ass7.zip':\n",
    "        os.remove(i)\n",
    "for i in namelist:\n",
    "    if i=='Assignment 7 part 1/i200682.zip':\n",
    "        os.remove(i)\n",
    "for i in namelist:\n",
    "    if i=='Assignment 7 part 1/I191664.zip':\n",
    "        os.remove(i)\n",
    "for i in namelist:\n",
    "    if i=='Assignment 7 part 1/I191706.zip':\n",
    "        os.remove(i)\n",
    "for i in namelist:\n",
    "    if i=='Assignment 7 part 1/i200667.zip':\n",
    "        os.remove(i)\n",
    "for i in namelist:\n",
    "    if i=='Assignment 7 part 1/i200709.zip':\n",
    "        os.remove(i)\n",
    "for i in namelist:\n",
    "    if i=='Assignment 7 part 1/i200894.zip':\n",
    "        os.remove(i)\n",
    "for i in namelist:\n",
    "    if i=='Assignment 7 part 1/i201783.zip':\n",
    "        os.remove(i)\n",
    "for i in namelist:\n",
    "    if i=='Assignment 7 part 1/i202478.zip':\n",
    "        os.remove(i)\n",
    "for i in namelist:\n",
    "    if i=='Assignment 7 part 1/i202652.zip':\n",
    "        os.remove(i)\n",
    "for i in namelist:\n",
    "    if i=='Assignment 7 part 1/i191706.zip':\n",
    "        os.remove(i)"
   ]
  },
  {
   "cell_type": "code",
   "execution_count": 24,
   "metadata": {},
   "outputs": [],
   "source": [
    "for i in namelist:\n",
    "    if i=='Assignment 7 part 1/i200658.zip':\n",
    "        os.remove(i)"
   ]
  },
  {
   "cell_type": "code",
   "execution_count": 27,
   "metadata": {},
   "outputs": [],
   "source": [
    "for i in namelist:\n",
    "    if i=='Assignment 7 part 1/i200695.zip':\n",
    "        os.remove(i)"
   ]
  },
  {
   "cell_type": "code",
   "execution_count": 20,
   "metadata": {},
   "outputs": [
    {
     "name": "stdout",
     "output_type": "stream",
     "text": [
      "Assignment 7 part 1/19I-1696.zip\n",
      "Assignment 7 part 1/i191714.zip\n",
      "Assignment 7 part 1/i191716_N.zip\n",
      "Assignment 7 part 1/i191763_N.zip\n",
      "Assignment 7 part 1/i191867.zip\n",
      "Assignment 7 part 1/i191886.zip\n",
      "Assignment 7 part 1/i200567.zip\n",
      "Assignment 7 part 1/i200583.zip\n",
      "Assignment 7 part 1/i200613.zip\n",
      "Assignment 7 part 1/i200626.zip\n",
      "Assignment 7 part 1/i200658.zip\n",
      "Assignment 7 part 1/i200677.zip\n",
      "Assignment 7 part 1/i200693.zip\n",
      "Assignment 7 part 1/i200695.zip\n",
      "Assignment 7 part 1/i200697.zip\n",
      "Assignment 7 part 1/i200757.zip\n",
      "Assignment 7 part 1/i200844.zip\n",
      "Assignment 7 part 1/i200927.zip\n",
      "Assignment 7 part 1/i201787.zip\n",
      "Assignment 7 part 1/i201853_A7_Part1.zip\n",
      "Assignment 7 part 1/i202416.zip\n",
      "Assignment 7 part 1/i202446.zip\n",
      "Assignment 7 part 1/i202454.zip\n",
      "Assignment 7 part 1/i202651.zip\n",
      "Assignment 7 part 1/i202653.zip\n",
      "Assignment 7 part 1/i202654.zip\n",
      "Assignment 7 part 1/i202656.zip\n",
      "Assignment 7 part 1/i202658.zip\n",
      "28\n"
     ]
    }
   ],
   "source": [
    "updated_names=os.listdir('Assignment 7 part 1')\n",
    "base='Assignment 7 part 1/'\n",
    "for i in range(len(updated_names)):\n",
    "    updated_names[i]=base+updated_names[i]\n",
    "    print(updated_names[i])\n",
    "print(len(updated_names))"
   ]
  },
  {
   "cell_type": "code",
   "execution_count": 21,
   "metadata": {},
   "outputs": [
    {
     "data": {
      "text/plain": [
       "['19I-1696.zip',\n",
       " 'i191714.zip',\n",
       " 'i191716_N.zip',\n",
       " 'i191763_N.zip',\n",
       " 'i191867.zip',\n",
       " 'i191886.zip',\n",
       " 'i200567.zip',\n",
       " 'i200583.zip',\n",
       " 'i200613.zip',\n",
       " 'i200626.zip',\n",
       " 'i200658.zip',\n",
       " 'i200677.zip',\n",
       " 'i200693.zip',\n",
       " 'i200695.zip',\n",
       " 'i200697.zip',\n",
       " 'i200757.zip',\n",
       " 'i200844.zip',\n",
       " 'i200927.zip',\n",
       " 'i201787.zip',\n",
       " 'i201853_A7_Part1.zip',\n",
       " 'i202416.zip',\n",
       " 'i202446.zip',\n",
       " 'i202454.zip',\n",
       " 'i202651.zip',\n",
       " 'i202653.zip',\n",
       " 'i202654.zip',\n",
       " 'i202656.zip',\n",
       " 'i202658.zip']"
      ]
     },
     "execution_count": 21,
     "metadata": {},
     "output_type": "execute_result"
    }
   ],
   "source": [
    "updated_f=os.listdir('Assignment 7 part 1')\n",
    "updated_f"
   ]
  },
  {
   "cell_type": "code",
   "execution_count": 37,
   "metadata": {},
   "outputs": [],
   "source": [
    "\n",
    "\n",
    "def un_zipFiles(path):\n",
    "    f=os.listdir(path)\n",
    "    for i in f:\n",
    "        if i.endswith('.zip'):\n",
    "            f_Path=path+'/'+i\n",
    "            z_file = zipfile.ZipFile(fPath)\n",
    "            for n in zip_file.namelist():\n",
    "                zip_file.extract(n,'ext')\n",
    "            zip_file.close()\n",
    "            # working_directory = 'Assignment 7 part 1'\n",
    "# os.chdir(working_directory)\n",
    "# for file in os.listdir(working_directory):   \n",
    "#     if zipfile.is_zipfile(file):\n",
    "#         with zipfile.ZipFile(file) as item: \n",
    "#             item.extractall() \n",
    "\n",
    "# new_path='Assignment 7 part 1'\n",
    "# try:\n",
    "#     with zipfile.ZipFile(new_path) as k:\n",
    "#         k.extractall('extractedFolder')\n",
    "#         namelist=(k.namelist())\n",
    "#         print(\"Extracted all\")\n",
    "# except:\n",
    "#     print(\"Invalid file\")"
   ]
  },
  {
   "cell_type": "code",
   "execution_count": 29,
   "metadata": {},
   "outputs": [],
   "source": []
  },
  {
   "cell_type": "code",
   "execution_count": 44,
   "metadata": {},
   "outputs": [
    {
     "ename": "FileNotFoundError",
     "evalue": "[WinError 3] The system cannot find the path specified: 'i'",
     "output_type": "error",
     "traceback": [
      "\u001b[1;31m---------------------------------------------------------------------------\u001b[0m",
      "\u001b[1;31mFileNotFoundError\u001b[0m                         Traceback (most recent call last)",
      "\u001b[1;32m<ipython-input-44-0b6d23d16d78>\u001b[0m in \u001b[0;36m<module>\u001b[1;34m\u001b[0m\n\u001b[0;32m      1\u001b[0m \u001b[1;32mfor\u001b[0m \u001b[0mi\u001b[0m \u001b[1;32min\u001b[0m \u001b[0mos\u001b[0m\u001b[1;33m.\u001b[0m\u001b[0mlistdir\u001b[0m\u001b[1;33m(\u001b[0m\u001b[1;34m'ext'\u001b[0m\u001b[1;33m)\u001b[0m\u001b[1;33m:\u001b[0m\u001b[1;33m\u001b[0m\u001b[1;33m\u001b[0m\u001b[0m\n\u001b[1;32m----> 2\u001b[1;33m     \u001b[0mos\u001b[0m\u001b[1;33m.\u001b[0m\u001b[0mlistdir\u001b[0m\u001b[1;33m(\u001b[0m\u001b[1;34m'i'\u001b[0m\u001b[1;33m)\u001b[0m\u001b[1;33m\u001b[0m\u001b[1;33m\u001b[0m\u001b[0m\n\u001b[0m\u001b[0;32m      3\u001b[0m     \u001b[0mprint\u001b[0m\u001b[1;33m(\u001b[0m\u001b[0mi\u001b[0m\u001b[1;33m)\u001b[0m\u001b[1;33m\u001b[0m\u001b[1;33m\u001b[0m\u001b[0m\n",
      "\u001b[1;31mFileNotFoundError\u001b[0m: [WinError 3] The system cannot find the path specified: 'i'"
     ]
    }
   ],
   "source": [
    "for i in os.listdir('ext'):\n",
    "    os.listdir('i')\n",
    "    print(i)"
   ]
  },
  {
   "cell_type": "code",
   "execution_count": null,
   "metadata": {},
   "outputs": [],
   "source": []
  },
  {
   "cell_type": "code",
   "execution_count": null,
   "metadata": {},
   "outputs": [],
   "source": []
  },
  {
   "cell_type": "code",
   "execution_count": null,
   "metadata": {},
   "outputs": [],
   "source": []
  },
  {
   "cell_type": "code",
   "execution_count": null,
   "metadata": {},
   "outputs": [],
   "source": []
  },
  {
   "cell_type": "code",
   "execution_count": null,
   "metadata": {},
   "outputs": [],
   "source": []
  },
  {
   "cell_type": "code",
   "execution_count": 272,
   "metadata": {},
   "outputs": [
    {
     "ename": "FileNotFoundError",
     "evalue": "[Errno 2] No such file or directory: '19I-1696.zip'",
     "output_type": "error",
     "traceback": [
      "\u001b[1;31m---------------------------------------------------------------------------\u001b[0m",
      "\u001b[1;31mFileNotFoundError\u001b[0m                         Traceback (most recent call last)",
      "\u001b[1;32m<ipython-input-272-71bc352f0afd>\u001b[0m in \u001b[0;36m<module>\u001b[1;34m\u001b[0m\n\u001b[0;32m      2\u001b[0m \u001b[1;31m#     print(i)\u001b[0m\u001b[1;33m\u001b[0m\u001b[1;33m\u001b[0m\u001b[1;33m\u001b[0m\u001b[0m\n\u001b[0;32m      3\u001b[0m \u001b[1;31m#     print(updated_f[i])\u001b[0m\u001b[1;33m\u001b[0m\u001b[1;33m\u001b[0m\u001b[1;33m\u001b[0m\u001b[0m\n\u001b[1;32m----> 4\u001b[1;33m     \u001b[1;32mwith\u001b[0m \u001b[0mzipfile\u001b[0m\u001b[1;33m.\u001b[0m\u001b[0mZipFile\u001b[0m\u001b[1;33m(\u001b[0m\u001b[0mupdated_f\u001b[0m\u001b[1;33m[\u001b[0m\u001b[0mi\u001b[0m\u001b[1;33m]\u001b[0m\u001b[1;33m)\u001b[0m \u001b[1;32mas\u001b[0m \u001b[0mz\u001b[0m\u001b[1;33m:\u001b[0m\u001b[1;33m\u001b[0m\u001b[1;33m\u001b[0m\u001b[0m\n\u001b[0m\u001b[0;32m      5\u001b[0m             \u001b[0mz\u001b[0m\u001b[1;33m.\u001b[0m\u001b[0mextractall\u001b[0m\u001b[1;33m(\u001b[0m\u001b[1;34m'extractedFolder'\u001b[0m\u001b[1;33m)\u001b[0m\u001b[1;33m\u001b[0m\u001b[1;33m\u001b[0m\u001b[0m\n",
      "\u001b[1;32m~\\anaconda3\\lib\\zipfile.py\u001b[0m in \u001b[0;36m__init__\u001b[1;34m(self, file, mode, compression, allowZip64, compresslevel, strict_timestamps)\u001b[0m\n\u001b[0;32m   1248\u001b[0m             \u001b[1;32mwhile\u001b[0m \u001b[1;32mTrue\u001b[0m\u001b[1;33m:\u001b[0m\u001b[1;33m\u001b[0m\u001b[1;33m\u001b[0m\u001b[0m\n\u001b[0;32m   1249\u001b[0m                 \u001b[1;32mtry\u001b[0m\u001b[1;33m:\u001b[0m\u001b[1;33m\u001b[0m\u001b[1;33m\u001b[0m\u001b[0m\n\u001b[1;32m-> 1250\u001b[1;33m                     \u001b[0mself\u001b[0m\u001b[1;33m.\u001b[0m\u001b[0mfp\u001b[0m \u001b[1;33m=\u001b[0m \u001b[0mio\u001b[0m\u001b[1;33m.\u001b[0m\u001b[0mopen\u001b[0m\u001b[1;33m(\u001b[0m\u001b[0mfile\u001b[0m\u001b[1;33m,\u001b[0m \u001b[0mfilemode\u001b[0m\u001b[1;33m)\u001b[0m\u001b[1;33m\u001b[0m\u001b[1;33m\u001b[0m\u001b[0m\n\u001b[0m\u001b[0;32m   1251\u001b[0m                 \u001b[1;32mexcept\u001b[0m \u001b[0mOSError\u001b[0m\u001b[1;33m:\u001b[0m\u001b[1;33m\u001b[0m\u001b[1;33m\u001b[0m\u001b[0m\n\u001b[0;32m   1252\u001b[0m                     \u001b[1;32mif\u001b[0m \u001b[0mfilemode\u001b[0m \u001b[1;32min\u001b[0m \u001b[0mmodeDict\u001b[0m\u001b[1;33m:\u001b[0m\u001b[1;33m\u001b[0m\u001b[1;33m\u001b[0m\u001b[0m\n",
      "\u001b[1;31mFileNotFoundError\u001b[0m: [Errno 2] No such file or directory: '19I-1696.zip'"
     ]
    }
   ],
   "source": [
    "for i in range(len(updated_f)):\n",
    "#     print(i)\n",
    "#     print(updated_f[i])\n",
    "    with zipfile.ZipFile(updated_f[i]) as z:\n",
    "            z.extractall('extractedFolder')"
   ]
  },
  {
   "cell_type": "code",
   "execution_count": 267,
   "metadata": {},
   "outputs": [
    {
     "name": "stdout",
     "output_type": "stream",
     "text": [
      "19I-1696\n",
      "i191706\n",
      "i191714\n",
      "i191716_N\n",
      "i191763_N\n",
      "i191867\n",
      "i191886\n",
      "i200567\n",
      "i200583\n",
      "i200613\n",
      "i200626\n",
      "i200658\n",
      "i200677\n",
      "i200693\n",
      "i200695\n",
      "i200697\n",
      "i200757\n",
      "i200844\n",
      "i200927\n",
      "i201787\n",
      "i201853_A7_Part1\n",
      "i202416\n",
      "i202446\n",
      "i202454\n",
      "i202651\n",
      "i202653\n",
      "i202654\n",
      "i202656\n",
      "i202658\n"
     ]
    }
   ],
   "source": [
    "roll=os.listdir('Assignment 7 part 1')\n",
    "for i in roll:\n",
    "    print(i[:-4])"
   ]
  },
  {
   "cell_type": "code",
   "execution_count": 264,
   "metadata": {},
   "outputs": [
    {
     "name": "stdout",
     "output_type": "stream",
     "text": [
      "['19I-1696', 'i191706', 'i191714', 'i191716_N', 'i191763_N', 'i191867', 'i191886', 'i200567', 'i200583', 'i200613', 'i200626', 'i200658', 'i200667', 'i200677', 'i200693', 'i200695', 'i200697', 'i200709', 'i200757', 'i200844', 'i200894', 'i200927', 'i201783', 'i201787', 'i201853_A7_Part1', 'i202416', 'i202446', 'i202454', 'i202478', 'i202651', 'i202652', 'i202653', 'i202654', 'i202656', 'i202658']\n"
     ]
    }
   ],
   "source": [
    "names3=[]\n",
    "for i in updated_names:\n",
    "    names3.append(i[20:-4])\n",
    "print(names3)"
   ]
  },
  {
   "cell_type": "code",
   "execution_count": null,
   "metadata": {},
   "outputs": [],
   "source": []
  },
  {
   "cell_type": "code",
   "execution_count": 60,
   "metadata": {},
   "outputs": [],
   "source": [
    "from os import walk\n",
    "filenames = next(walk('Assignment 7 part 1'), (None, None, []))[2]"
   ]
  },
  {
   "cell_type": "code",
   "execution_count": null,
   "metadata": {},
   "outputs": [],
   "source": []
  },
  {
   "cell_type": "code",
   "execution_count": 59,
   "metadata": {},
   "outputs": [
    {
     "name": "stdout",
     "output_type": "stream",
     "text": [
      "Assignment 7 part 1/i191886.zip\n",
      "Assignment 7 part 1/i200567.zip\n",
      "Assignment 7 part 1/i200583.zip\n",
      "Assignment 7 part 1/i200667.zip\n",
      "Assignment 7 part 1/i201783.zip\n",
      "Assignment 7 part 1/i202653.zip\n",
      "Assignment 7 part 1/i202652.zip\n",
      "Assignment 7 part 1/i202658.zip\n",
      "Assignment 7 part 1/i191867.zip\n",
      "Assignment 7 part 1/I191664.zip\n",
      "Assignment 7 part 1/i202656.zip\n"
     ]
    },
    {
     "ename": "BadZipFile",
     "evalue": "File is not a zip file",
     "output_type": "error",
     "traceback": [
      "\u001b[1;31m---------------------------------------------------------------------------\u001b[0m",
      "\u001b[1;31mBadZipFile\u001b[0m                                Traceback (most recent call last)",
      "\u001b[1;32m<ipython-input-59-75be34d5f813>\u001b[0m in \u001b[0;36m<module>\u001b[1;34m\u001b[0m\n\u001b[0;32m      1\u001b[0m \u001b[1;32mfor\u001b[0m \u001b[0mi\u001b[0m \u001b[1;32min\u001b[0m \u001b[0mrange\u001b[0m\u001b[1;33m(\u001b[0m\u001b[0mlen\u001b[0m\u001b[1;33m(\u001b[0m\u001b[0mnamelist\u001b[0m\u001b[1;33m)\u001b[0m\u001b[1;33m)\u001b[0m\u001b[1;33m:\u001b[0m\u001b[1;33m\u001b[0m\u001b[1;33m\u001b[0m\u001b[0m\n\u001b[1;32m----> 2\u001b[1;33m     \u001b[1;32mwith\u001b[0m \u001b[0mzipfile\u001b[0m\u001b[1;33m.\u001b[0m\u001b[0mZipFile\u001b[0m\u001b[1;33m(\u001b[0m\u001b[0mnamelist\u001b[0m\u001b[1;33m[\u001b[0m\u001b[0mi\u001b[0m\u001b[1;33m]\u001b[0m\u001b[1;33m,\u001b[0m\u001b[1;34m'r'\u001b[0m\u001b[1;33m)\u001b[0m \u001b[1;32mas\u001b[0m \u001b[0mz\u001b[0m\u001b[1;33m:\u001b[0m\u001b[1;33m\u001b[0m\u001b[1;33m\u001b[0m\u001b[0m\n\u001b[0m\u001b[0;32m      3\u001b[0m         \u001b[0mprint\u001b[0m\u001b[1;33m(\u001b[0m\u001b[0mnamelist\u001b[0m\u001b[1;33m[\u001b[0m\u001b[0mi\u001b[0m\u001b[1;33m]\u001b[0m\u001b[1;33m)\u001b[0m\u001b[1;33m\u001b[0m\u001b[1;33m\u001b[0m\u001b[0m\n\u001b[0;32m      4\u001b[0m         \u001b[0mlistOfiles\u001b[0m \u001b[1;33m=\u001b[0m \u001b[0mz\u001b[0m\u001b[1;33m.\u001b[0m\u001b[0mnamelist\u001b[0m\u001b[1;33m(\u001b[0m\u001b[1;33m)\u001b[0m\u001b[1;33m\u001b[0m\u001b[1;33m\u001b[0m\u001b[0m\n\u001b[0;32m      5\u001b[0m \u001b[1;31m#         if(len(listOfiles))!=0:\u001b[0m\u001b[1;33m\u001b[0m\u001b[1;33m\u001b[0m\u001b[1;33m\u001b[0m\u001b[0m\n",
      "\u001b[1;32m~\\anaconda3\\lib\\zipfile.py\u001b[0m in \u001b[0;36m__init__\u001b[1;34m(self, file, mode, compression, allowZip64, compresslevel, strict_timestamps)\u001b[0m\n\u001b[0;32m   1266\u001b[0m         \u001b[1;32mtry\u001b[0m\u001b[1;33m:\u001b[0m\u001b[1;33m\u001b[0m\u001b[1;33m\u001b[0m\u001b[0m\n\u001b[0;32m   1267\u001b[0m             \u001b[1;32mif\u001b[0m \u001b[0mmode\u001b[0m \u001b[1;33m==\u001b[0m \u001b[1;34m'r'\u001b[0m\u001b[1;33m:\u001b[0m\u001b[1;33m\u001b[0m\u001b[1;33m\u001b[0m\u001b[0m\n\u001b[1;32m-> 1268\u001b[1;33m                 \u001b[0mself\u001b[0m\u001b[1;33m.\u001b[0m\u001b[0m_RealGetContents\u001b[0m\u001b[1;33m(\u001b[0m\u001b[1;33m)\u001b[0m\u001b[1;33m\u001b[0m\u001b[1;33m\u001b[0m\u001b[0m\n\u001b[0m\u001b[0;32m   1269\u001b[0m             \u001b[1;32melif\u001b[0m \u001b[0mmode\u001b[0m \u001b[1;32min\u001b[0m \u001b[1;33m(\u001b[0m\u001b[1;34m'w'\u001b[0m\u001b[1;33m,\u001b[0m \u001b[1;34m'x'\u001b[0m\u001b[1;33m)\u001b[0m\u001b[1;33m:\u001b[0m\u001b[1;33m\u001b[0m\u001b[1;33m\u001b[0m\u001b[0m\n\u001b[0;32m   1270\u001b[0m                 \u001b[1;31m# set the modified flag so central directory gets written\u001b[0m\u001b[1;33m\u001b[0m\u001b[1;33m\u001b[0m\u001b[1;33m\u001b[0m\u001b[0m\n",
      "\u001b[1;32m~\\anaconda3\\lib\\zipfile.py\u001b[0m in \u001b[0;36m_RealGetContents\u001b[1;34m(self)\u001b[0m\n\u001b[0;32m   1333\u001b[0m             \u001b[1;32mraise\u001b[0m \u001b[0mBadZipFile\u001b[0m\u001b[1;33m(\u001b[0m\u001b[1;34m\"File is not a zip file\"\u001b[0m\u001b[1;33m)\u001b[0m\u001b[1;33m\u001b[0m\u001b[1;33m\u001b[0m\u001b[0m\n\u001b[0;32m   1334\u001b[0m         \u001b[1;32mif\u001b[0m \u001b[1;32mnot\u001b[0m \u001b[0mendrec\u001b[0m\u001b[1;33m:\u001b[0m\u001b[1;33m\u001b[0m\u001b[1;33m\u001b[0m\u001b[0m\n\u001b[1;32m-> 1335\u001b[1;33m             \u001b[1;32mraise\u001b[0m \u001b[0mBadZipFile\u001b[0m\u001b[1;33m(\u001b[0m\u001b[1;34m\"File is not a zip file\"\u001b[0m\u001b[1;33m)\u001b[0m\u001b[1;33m\u001b[0m\u001b[1;33m\u001b[0m\u001b[0m\n\u001b[0m\u001b[0;32m   1336\u001b[0m         \u001b[1;32mif\u001b[0m \u001b[0mself\u001b[0m\u001b[1;33m.\u001b[0m\u001b[0mdebug\u001b[0m \u001b[1;33m>\u001b[0m \u001b[1;36m1\u001b[0m\u001b[1;33m:\u001b[0m\u001b[1;33m\u001b[0m\u001b[1;33m\u001b[0m\u001b[0m\n\u001b[0;32m   1337\u001b[0m             \u001b[0mprint\u001b[0m\u001b[1;33m(\u001b[0m\u001b[0mendrec\u001b[0m\u001b[1;33m)\u001b[0m\u001b[1;33m\u001b[0m\u001b[1;33m\u001b[0m\u001b[0m\n",
      "\u001b[1;31mBadZipFile\u001b[0m: File is not a zip file"
     ]
    }
   ],
   "source": [
    "for i in range(len(namelist)):\n",
    "    with zipfile.ZipFile(namelist[i],'r') as z:\n",
    "        print(namelist[i])\n",
    "        listOfiles = z.namelist()\n",
    "#         if(len(listOfiles))!=0:\n",
    "#             for k in listOfiles:\n",
    "#                 print(k)\n",
    "#                 source=namelist[i]+'/'+k\n",
    "#                 destination=namelist[i]+'/temp'\n",
    "#                 print(destination)\n",
    "#                 print(source)\n",
    "#                 shutil.move(source, destination)\n",
    "listOfiles          "
   ]
  },
  {
   "cell_type": "code",
   "execution_count": null,
   "metadata": {},
   "outputs": [],
   "source": [
    "source=\"Assignment 7 part 1\\i191706.zip\"\n",
    "shutil.move(source, destination)"
   ]
  },
  {
   "cell_type": "code",
   "execution_count": 6,
   "metadata": {},
   "outputs": [
    {
     "name": "stdout",
     "output_type": "stream",
     "text": [
      "0\n",
      "Assignment 7 part 1/i202446.zip\n",
      "1\n",
      "Assignment 7 part 1/i191886.zip\n",
      "2\n",
      "Assignment 7 part 1/i202653.zip\n",
      "3\n",
      "Assignment 7 part 1/i200667.zip\n",
      "4\n",
      "Assignment 7 part 1/i202654.zip\n",
      "5\n",
      "Assignment 7 part 1/i200583.zip\n",
      "6\n",
      "Assignment 7 part 1/i202658.zip\n",
      "7\n",
      "Assignment 7 part 1/i201783.zip\n",
      "8\n",
      "Assignment 7 part 1/i200709(1).zip\n",
      "9\n",
      "Assignment 7 part 1/i191867.zip\n",
      "10\n",
      "Assignment 7 part 1/i200709.zip\n",
      "11\n",
      "Assignment 7 part 1/i191716_N.zip\n",
      "12\n",
      "Assignment 7 part 1/i200709(2).zip\n",
      "13\n",
      "Assignment 7 part 1/i191706.zip\n",
      "14\n",
      "Assignment 7 part 1/i202652.zip\n",
      "15\n",
      "Assignment 7 part 1/i200757.zip\n",
      "16\n",
      "Assignment 7 part 1/i202656.zip\n",
      "17\n",
      "Assignment 7 part 1/I191664.zip\n",
      "18\n",
      "Assignment 7 part 1/i201787.zip\n",
      "19\n",
      "Assignment 7 part 1/i200697(2).zip\n",
      "20\n",
      "Assignment 7 part 1/i200676_dsn_ass7.zip\n",
      "21\n",
      "Assignment 7 part 1/i200697.zip\n",
      "22\n",
      "Assignment 7 part 1/i200626.zip\n",
      "23\n",
      "Assignment 7 part 1/i200658.zip\n"
     ]
    },
    {
     "ename": "BadZipFile",
     "evalue": "File is not a zip file",
     "output_type": "error",
     "traceback": [
      "\u001b[1;31m---------------------------------------------------------------------------\u001b[0m",
      "\u001b[1;31mBadZipFile\u001b[0m                                Traceback (most recent call last)",
      "\u001b[1;32m<ipython-input-6-18fba41966dc>\u001b[0m in \u001b[0;36m<module>\u001b[1;34m\u001b[0m\n\u001b[0;32m      2\u001b[0m     \u001b[0mprint\u001b[0m\u001b[1;33m(\u001b[0m\u001b[0mi\u001b[0m\u001b[1;33m)\u001b[0m\u001b[1;33m\u001b[0m\u001b[1;33m\u001b[0m\u001b[0m\n\u001b[0;32m      3\u001b[0m     \u001b[0mprint\u001b[0m\u001b[1;33m(\u001b[0m\u001b[0mnamelist\u001b[0m\u001b[1;33m[\u001b[0m\u001b[0mi\u001b[0m\u001b[1;33m]\u001b[0m\u001b[1;33m)\u001b[0m\u001b[1;33m\u001b[0m\u001b[1;33m\u001b[0m\u001b[0m\n\u001b[1;32m----> 4\u001b[1;33m     \u001b[1;32mwith\u001b[0m \u001b[0mzipfile\u001b[0m\u001b[1;33m.\u001b[0m\u001b[0mZipFile\u001b[0m\u001b[1;33m(\u001b[0m\u001b[0mnamelist\u001b[0m\u001b[1;33m[\u001b[0m\u001b[0mi\u001b[0m\u001b[1;33m]\u001b[0m\u001b[1;33m)\u001b[0m \u001b[1;32mas\u001b[0m \u001b[0mz\u001b[0m\u001b[1;33m:\u001b[0m\u001b[1;33m\u001b[0m\u001b[1;33m\u001b[0m\u001b[0m\n\u001b[0m\u001b[0;32m      5\u001b[0m             \u001b[0mz\u001b[0m\u001b[1;33m.\u001b[0m\u001b[0mextractall\u001b[0m\u001b[1;33m(\u001b[0m\u001b[1;34m'extractedFolder'\u001b[0m\u001b[1;33m)\u001b[0m\u001b[1;33m\u001b[0m\u001b[1;33m\u001b[0m\u001b[0m\n",
      "\u001b[1;32mC:\\ProgramData\\Anaconda3\\lib\\zipfile.py\u001b[0m in \u001b[0;36m__init__\u001b[1;34m(self, file, mode, compression, allowZip64, compresslevel, strict_timestamps)\u001b[0m\n\u001b[0;32m   1267\u001b[0m         \u001b[1;32mtry\u001b[0m\u001b[1;33m:\u001b[0m\u001b[1;33m\u001b[0m\u001b[1;33m\u001b[0m\u001b[0m\n\u001b[0;32m   1268\u001b[0m             \u001b[1;32mif\u001b[0m \u001b[0mmode\u001b[0m \u001b[1;33m==\u001b[0m \u001b[1;34m'r'\u001b[0m\u001b[1;33m:\u001b[0m\u001b[1;33m\u001b[0m\u001b[1;33m\u001b[0m\u001b[0m\n\u001b[1;32m-> 1269\u001b[1;33m                 \u001b[0mself\u001b[0m\u001b[1;33m.\u001b[0m\u001b[0m_RealGetContents\u001b[0m\u001b[1;33m(\u001b[0m\u001b[1;33m)\u001b[0m\u001b[1;33m\u001b[0m\u001b[1;33m\u001b[0m\u001b[0m\n\u001b[0m\u001b[0;32m   1270\u001b[0m             \u001b[1;32melif\u001b[0m \u001b[0mmode\u001b[0m \u001b[1;32min\u001b[0m \u001b[1;33m(\u001b[0m\u001b[1;34m'w'\u001b[0m\u001b[1;33m,\u001b[0m \u001b[1;34m'x'\u001b[0m\u001b[1;33m)\u001b[0m\u001b[1;33m:\u001b[0m\u001b[1;33m\u001b[0m\u001b[1;33m\u001b[0m\u001b[0m\n\u001b[0;32m   1271\u001b[0m                 \u001b[1;31m# set the modified flag so central directory gets written\u001b[0m\u001b[1;33m\u001b[0m\u001b[1;33m\u001b[0m\u001b[1;33m\u001b[0m\u001b[0m\n",
      "\u001b[1;32mC:\\ProgramData\\Anaconda3\\lib\\zipfile.py\u001b[0m in \u001b[0;36m_RealGetContents\u001b[1;34m(self)\u001b[0m\n\u001b[0;32m   1334\u001b[0m             \u001b[1;32mraise\u001b[0m \u001b[0mBadZipFile\u001b[0m\u001b[1;33m(\u001b[0m\u001b[1;34m\"File is not a zip file\"\u001b[0m\u001b[1;33m)\u001b[0m\u001b[1;33m\u001b[0m\u001b[1;33m\u001b[0m\u001b[0m\n\u001b[0;32m   1335\u001b[0m         \u001b[1;32mif\u001b[0m \u001b[1;32mnot\u001b[0m \u001b[0mendrec\u001b[0m\u001b[1;33m:\u001b[0m\u001b[1;33m\u001b[0m\u001b[1;33m\u001b[0m\u001b[0m\n\u001b[1;32m-> 1336\u001b[1;33m             \u001b[1;32mraise\u001b[0m \u001b[0mBadZipFile\u001b[0m\u001b[1;33m(\u001b[0m\u001b[1;34m\"File is not a zip file\"\u001b[0m\u001b[1;33m)\u001b[0m\u001b[1;33m\u001b[0m\u001b[1;33m\u001b[0m\u001b[0m\n\u001b[0m\u001b[0;32m   1337\u001b[0m         \u001b[1;32mif\u001b[0m \u001b[0mself\u001b[0m\u001b[1;33m.\u001b[0m\u001b[0mdebug\u001b[0m \u001b[1;33m>\u001b[0m \u001b[1;36m1\u001b[0m\u001b[1;33m:\u001b[0m\u001b[1;33m\u001b[0m\u001b[1;33m\u001b[0m\u001b[0m\n\u001b[0;32m   1338\u001b[0m             \u001b[0mprint\u001b[0m\u001b[1;33m(\u001b[0m\u001b[0mendrec\u001b[0m\u001b[1;33m)\u001b[0m\u001b[1;33m\u001b[0m\u001b[1;33m\u001b[0m\u001b[0m\n",
      "\u001b[1;31mBadZipFile\u001b[0m: File is not a zip file"
     ]
    }
   ],
   "source": [
    "for i in range(len(namelist)):\n",
    "    print(i)\n",
    "    print(namelist[i])\n",
    "    with zipfile.ZipFile(namelist[i]) as z:\n",
    "            z.extractall('extractedFolder')"
   ]
  },
  {
   "cell_type": "code",
   "execution_count": 52,
   "metadata": {},
   "outputs": [
    {
     "name": "stdout",
     "output_type": "stream",
     "text": [
      "i191763_N/ruha A.C chalao.mp3\n",
      "i191763_N/ruha ac ahista karo.mp3\n",
      "i191763_N/ruha ac band karo.mp3\n",
      "i191763_N/ruha ac fast karo.mp3\n",
      "i191763_N/ruha ac off karo.mp3\n",
      "i191763_N/ruha ac on karo.mp3\n",
      "i191763_N/ruha ac slow karo.mp3\n",
      "i191763_N/ruha ac tez karo.mp3\n",
      "i191763_N/ruha agla channal lagao.mp3\n",
      "i191763_N/ruha agla gana lagao.mp3\n",
      "i191763_N/ruha agla song lagao.mp3\n",
      "i191763_N/ruha bathroom ka bulb band karo.mp3\n",
      "i191763_N/ruha bathroom ka bulb jalao.mp3\n",
      "i191763_N/ruha bathroom ka bulb off karo.mp3\n",
      "i191763_N/ruha bathroom ka bulb on karo.mp3\n",
      "i191763_N/ruha bathroom ki light band karo.mp3\n",
      "i191763_N/ruha bathroom ki light jalao.mp3\n",
      "i191763_N/ruha bathroom ki light off karo.mp3\n",
      "i191763_N/ruha bathroom ki light on karo.mp3\n",
      "i191763_N/ruha bedroom ka bulb band karo.mp3\n",
      "i191763_N/ruha bedroom ka bulb in karo.mp3\n",
      "i191763_N/ruha bedroom ka bulb jalao.mp3\n",
      "i191763_N/ruha bedroom ka bulb off karo.mp3\n",
      "i191763_N/ruha bedroom ki light band karo.mp3\n",
      "i191763_N/ruha bedroom ki light jalao.mp3\n",
      "i191763_N/ruha bedroom ki light off karo.mp3\n",
      "i191763_N/ruha bedroom ki light on karo.mp3\n",
      "i191763_N/ruha bethaq ka bulb band karo.mp3\n",
      "i191763_N/ruha bethaq ka bulb jalao.mp3\n",
      "i191763_N/ruha bethaq ka bulb off karo.mp3\n",
      "i191763_N/ruha bethaq ka bulb on karo.mp3\n",
      "i191763_N/ruha bethaq ki light band karo.mp3\n",
      "i191763_N/ruha bethaq ki light jalao.mp3\n",
      "i191763_N/ruha bethaq ki light off karo.mp3\n",
      "i191763_N/ruha bethaq ki light on karo.mp3\n",
      "i191763_N/ruha gany lagao.mp3\n",
      "i191763_N/ruha garage ka bulb band karo.mp3\n",
      "i191763_N/ruha garage ka bulb jalao.mp3\n",
      "i191763_N/ruha garage ka bulb off karo.mp3\n",
      "i191763_N/ruha garage ka bulb on karo.mp3\n",
      "i191763_N/ruha garage ki light band karo.mp3\n",
      "i191763_N/ruha garage ki light jalao.mp3\n",
      "i191763_N/ruha garage ki light off karo.mp3\n",
      "i191763_N/ruha garage ki light on karo.mp3\n",
      "i191763_N/ruha kitchen ka bulb band karo.mp3\n",
      "i191763_N/ruha kitchen ka bulb jalao.mp3\n",
      "i191763_N/ruha kitchen ka bulb off karo.mp3\n",
      "i191763_N/ruha kitchen ka bulb on karo.mp3\n",
      "i191763_N/ruha kitchen ki light band karo.mp3\n",
      "i191763_N/ruha kitchen ki light jalao.mp3\n",
      "i191763_N/ruha kitchen ki light off karo.mp3\n",
      "i191763_N/ruha kitchen ki light on karo.mp3\n",
      "i191763_N/ruha lounge ka bulb band karo.mp3\n",
      "i191763_N/ruha lounge ka bulb jalao.mp3\n",
      "i191763_N/ruha lounge ka bulb off karo.mp3\n",
      "i191763_N/ruha lounge ka bulb on karo.mp3\n",
      "i191763_N/ruha lounge ki light band karo.mp3\n",
      "i191763_N/ruha lounge ki light jalao.mp3\n",
      "i191763_N/ruha lounge ki light off karo.mp3\n",
      "i191763_N/ruha lounge ki light on karo.mp3\n",
      "i191763_N/ruha next channal lagao.mp3\n",
      "i191763_N/ruha next gana lagao.mp3\n",
      "i191763_N/ruha next song lagao.mp3\n",
      "i191763_N/ruha pichla channal lagao.mp3\n",
      "i191763_N/ruha pichla gana lagao.mp3\n",
      "i191763_N/ruha pichla song lagao.mp3\n",
      "i191763_N/ruha previous channal lagao.mp3\n",
      "i191763_N/ruha previous gana lagao.mp3\n",
      "i191763_N/ruha previous song lagao.mp3\n",
      "i191763_N/ruha songs lagao.mp3\n",
      "i191763_N/ruha tv band karo.mp3\n",
      "i191763_N/ruha tv chalao.mp3\n",
      "i191763_N/ruha tv ka volume ahista karo.mp3\n",
      "i191763_N/ruha tv ka volume kum karo.mp3\n",
      "i191763_N/ruha tv ka volume slow karo.mp3\n",
      "i191763_N/ruha tv ka volume tez karo.mp3\n",
      "i191763_N/ruha tv ka volume zyada karo.mp3\n",
      "i191763_N/ruha tv ki awaz ahista karo.mp3\n",
      "i191763_N/ruha tv ki awaz kam karo.mp3\n",
      "i191763_N/ruha tv ki awaz slow karo.mp3\n",
      "i191763_N/ruha tv ki awaz tez karo.mp3\n",
      "i191763_N/ruha tv ki awaz zyada karo.mp3\n",
      "i191763_N/ruha tv mute karo.mp3\n",
      "i191763_N/ruha tv off karo.mp3\n",
      "i191763_N/ruha tv on karo.mp3\n",
      "i191763_N/ruha tv par ary digital lagao.mp3\n",
      "i191763_N/ruha tv par ary news lagao.mp3\n",
      "i191763_N/ruha tv par cartoon network lagao.mp3\n",
      "i191763_N/ruha tv par Discovery lagao.mp3\n",
      "i191763_N/ruha tv par geo news lagao.mp3\n",
      "i191763_N/ruha tv par hbo lagao.mp3\n",
      "i191763_N/ruha tv par hum tv lagao.mp3\n",
      "i191763_N/ruha tv par masla tv lagao.mp3\n",
      "i191763_N/ruha tv par Q-tv lagao.mp3\n",
      "i191763_N/ruha tv par sama news lagao.mp3\n",
      "i191763_N/ruha tv unmute karo.mp3\n",
      "i191763_N/ruha washroom ka bulb band karo.mp3\n",
      "i191763_N/ruha washroom ka bulb jalao.mp3\n",
      "i191763_N/ruha washroom ka bulb off karo.mp3\n",
      "i191763_N/ruha washroom ka bulb on karo.mp3\n",
      "i191763_N/ruha washroom ki light band karo.mp3\n",
      "i191763_N/ruha washroom ki light jalao.mp3\n",
      "i191763_N/ruha washroom ki light off karo.mp3\n",
      "i191763_N/ruha washroom ki light on karo.mp3\n"
     ]
    }
   ],
   "source": [
    "mypath='Assignment 7 part 1/i191763_N.zip'\n",
    "import zipfile\n",
    "\n",
    "zip_file = zipfile.ZipFile(mypath,'r')\n",
    "\n",
    "for name in zip_file.namelist():\n",
    "    print ('%s' % (name))\n",
    "\n",
    "zip_file.close()"
   ]
  },
  {
   "cell_type": "code",
   "execution_count": null,
   "metadata": {},
   "outputs": [],
   "source": []
  },
  {
   "cell_type": "code",
   "execution_count": null,
   "metadata": {},
   "outputs": [],
   "source": []
  },
  {
   "cell_type": "code",
   "execution_count": null,
   "metadata": {},
   "outputs": [],
   "source": []
  }
 ],
 "metadata": {
  "kernelspec": {
   "display_name": "Python 3",
   "language": "python",
   "name": "python3"
  },
  "language_info": {
   "codemirror_mode": {
    "name": "ipython",
    "version": 3
   },
   "file_extension": ".py",
   "mimetype": "text/x-python",
   "name": "python",
   "nbconvert_exporter": "python",
   "pygments_lexer": "ipython3",
   "version": "3.8.3"
  }
 },
 "nbformat": 4,
 "nbformat_minor": 4
}
